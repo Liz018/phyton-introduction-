{
  "nbformat": 4,
  "nbformat_minor": 0,
  "metadata": {
    "colab": {
      "provenance": [],
      "authorship_tag": "ABX9TyP7fT86WSIa3x+u7knb2Vh5",
      "include_colab_link": true
    },
    "kernelspec": {
      "name": "python3",
      "display_name": "Python 3"
    },
    "language_info": {
      "name": "python"
    }
  },
  "cells": [
    {
      "cell_type": "markdown",
      "metadata": {
        "id": "view-in-github",
        "colab_type": "text"
      },
      "source": [
        "<a href=\"https://colab.research.google.com/github/Liz018/phyton-introduction-/blob/main/Untitled0.ipynb\" target=\"_parent\"><img src=\"https://colab.research.google.com/assets/colab-badge.svg\" alt=\"Open In Colab\"/></a>"
      ]
    },
    {
      "cell_type": "markdown",
      "source": [
        "# Mis apuntes de python\n",
        "### fundamentos de programacion 202420\n",
        "\n",
        "**Nombre: Lizeth Agudelo**\n",
        "\n",
        "__email__:lizeth.agudelop@upb.edu.co\n",
        "\n",
        "*Fecha de creacion:* 20 de agosto, 2024\n",
        "\n",
        "_Excelsius_"
      ],
      "metadata": {
        "id": "r0sYb5HgrglX"
      }
    },
    {
      "cell_type": "code",
      "execution_count": 11,
      "metadata": {
        "colab": {
          "base_uri": "https://localhost:8080/"
        },
        "id": "PWe8jb2crU7B",
        "outputId": "8f4513f3-5d71-4d22-8ae7-3ec979bc52e6"
      },
      "outputs": [
        {
          "output_type": "stream",
          "name": "stdout",
          "text": [
            "Hola mundo\n",
            "Lizeth\n",
            "hola, mi nombre es Lizeth tengo 19 años y soy de Cerete\n",
            "12.5\n",
            "<class 'int'>\n"
          ]
        }
      ],
      "source": [
        "# Mis primeros pasos con phyton\n",
        "\n",
        "print(\"Hola mundo\")\n",
        "\n",
        "\n",
        "name= \"Lizeth\"\n",
        "print(name)\n",
        "age= 19\n",
        "City= \"Cerete\"\n",
        "\n",
        "print(\"hola, mi nombre es\", name, \"tengo\", age, \"años y soy de\",\n",
        "    City)\n",
        "\n",
        "# numeros\n",
        "a= 10\n",
        "b= 2.5\n",
        "c= (a + b)\n",
        "print(c)\n",
        "# Tipo de datos\n",
        "print(type(a))\n"
      ]
    },
    {
      "cell_type": "code",
      "source": [
        "# operaciones matematicas basicas\n",
        "print(3 + 2) # suma\n",
        "print(3 - 2) # resta\n",
        "print(3 * 2) # multiplicacion\n",
        "print(3 / 2) # division\n",
        "print(3 % 2) # Modulo\n",
        "print(3 ** 2) # potencia\n",
        "print(3 // 2) # division entera"
      ],
      "metadata": {
        "colab": {
          "base_uri": "https://localhost:8080/"
        },
        "id": "UfnVQTeWzTYM",
        "outputId": "237f036e-8709-491f-f5da-e483bce82650"
      },
      "execution_count": 13,
      "outputs": [
        {
          "output_type": "stream",
          "name": "stdout",
          "text": [
            "5\n",
            "1\n",
            "6\n",
            "1.5\n",
            "1\n",
            "9\n",
            "1\n"
          ]
        }
      ]
    },
    {
      "cell_type": "code",
      "source": [
        "# concatenacion\n",
        "\n",
        "name= \"lizeth\"\n",
        "lastname= \"Agudelo\"\n",
        "fullname= name + \" \" + lastname\n",
        "print(fullname)\n",
        "print((fullname + \" \")* 3)\n",
        "\n",
        "a= 20\n",
        "print(\"a=\", a)\n",
        "b= 10\n",
        "a+= b\n",
        "print(\"a=\", a)\n",
        "a -= b\n",
        "print(\"a=\", a)\n",
        "a *= b\n",
        "print(\"a=\", a)\n",
        "a/= b\n",
        "print(\"a=\", a)"
      ],
      "metadata": {
        "colab": {
          "base_uri": "https://localhost:8080/"
        },
        "id": "jSJ6pqld1TiH",
        "outputId": "a25314a9-f01b-4a25-db8c-0057e9ea3a71"
      },
      "execution_count": 20,
      "outputs": [
        {
          "output_type": "stream",
          "name": "stdout",
          "text": [
            "lizeth Agudelo\n",
            "lizeth Agudelo lizeth Agudelo lizeth Agudelo \n",
            "a= 20\n",
            "a= 30\n",
            "a= 20\n",
            "a= 200\n",
            "a= 20.0\n"
          ]
        }
      ]
    }
  ]
}